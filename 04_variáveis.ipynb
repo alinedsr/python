{
 "cells": [
  {
   "cell_type": "markdown",
   "id": "31ed5943",
   "metadata": {},
   "source": [
    "Trabalhando com Variáveis"
   ]
  },
  {
   "cell_type": "code",
   "execution_count": 7,
   "id": "1cd06b46",
   "metadata": {},
   "outputs": [
    {
     "name": "stdout",
     "output_type": "stream",
     "text": [
      "Em Python, não precisamos declarar o tipo de dados ao declarar uma variável, assim como também não precisamos declará-la logo no inicio do programa.\n"
     ]
    }
   ],
   "source": [
    "print('Em Python, não precisamos declarar o tipo de dados ao declarar uma variável, assim como também não precisamos declará-la logo no inicio do programa.')"
   ]
  },
  {
   "cell_type": "code",
   "execution_count": 4,
   "id": "eb154b0b",
   "metadata": {},
   "outputs": [
    {
     "name": "stdout",
     "output_type": "stream",
     "text": [
      "1500\n"
     ]
    }
   ],
   "source": [
    "qtde_vendas = 1500\n",
    "print (qtde_vendas)"
   ]
  },
  {
   "cell_type": "code",
   "execution_count": 8,
   "id": "6f6f667c",
   "metadata": {},
   "outputs": [
    {
     "name": "stdout",
     "output_type": "stream",
     "text": [
      "Aline da Silveira Rosa\n"
     ]
    }
   ],
   "source": [
    "nome = 'Aline da Silveira Rosa'\n",
    "print(nome)"
   ]
  },
  {
   "cell_type": "code",
   "execution_count": 11,
   "id": "8a4a9b0e",
   "metadata": {},
   "outputs": [
    {
     "name": "stdout",
     "output_type": "stream",
     "text": [
      "Seu lucro neste mês foi de 500 reais.\n"
     ]
    }
   ],
   "source": [
    "faturamento = 600\n",
    "custo = 100\n",
    "lucro = faturamento - custo\n",
    "print('Seu lucro neste mês foi de', lucro, 'reais.')"
   ]
  }
 ],
 "metadata": {
  "kernelspec": {
   "display_name": "Python 3",
   "language": "python",
   "name": "python3"
  },
  "language_info": {
   "codemirror_mode": {
    "name": "ipython",
    "version": 3
   },
   "file_extension": ".py",
   "mimetype": "text/x-python",
   "name": "python",
   "nbconvert_exporter": "python",
   "pygments_lexer": "ipython3",
   "version": "3.8.8"
  }
 },
 "nbformat": 4,
 "nbformat_minor": 5
}
