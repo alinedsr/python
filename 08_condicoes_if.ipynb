{
 "cells": [
  {
   "cell_type": "markdown",
   "id": "6196bba8",
   "metadata": {},
   "source": [
    "# Trabalhando com Condições: IF, ELSE"
   ]
  },
  {
   "cell_type": "code",
   "execution_count": 2,
   "id": "7e42ffd0",
   "metadata": {},
   "outputs": [
    {
     "name": "stdout",
     "output_type": "stream",
     "text": [
      "Batemos a meta estabelecida para esse mês, que foi de 50000. Vendemos 65000 unidades.\n"
     ]
    }
   ],
   "source": [
    "meta = 50000\n",
    "qtde_vendas = 65000\n",
    "\n",
    "if qtde_vendas >= meta:\n",
    "    print('Batemos a meta estabelecida para esse mês, que foi de {}. Vendemos {} unidades.' .format(meta, qtde_vendas))\n",
    "else:\n",
    "    print('Infelizmente, este mês não batemos a meta de {}. Vendemos {} unidades.' .format(meta, qtde_vendas))"
   ]
  },
  {
   "cell_type": "code",
   "execution_count": 8,
   "id": "26056eaa",
   "metadata": {},
   "outputs": [
    {
     "name": "stdout",
     "output_type": "stream",
     "text": [
      "Infelizmente, este mês não batemos a meta de 200 vendas. Foram vendidos 199 telefones, a um preço unitário de 200. Nosso lucro foi de 39800.\n"
     ]
    }
   ],
   "source": [
    "meta = int(input('Qual foi a meta estabelecida para o mês atual?'))\n",
    "produto = input('Qual produto foi ofertado durante o período?')\n",
    "preco_unitario = int(input('Qual o preço unitário de {}' .format(produto)))\n",
    "qtde_vendas = int(input('Quantas unidades vendemos este mês?'))\n",
    "lucro = preco_unitario * qtde_vendas\n",
    "\n",
    "if qtde_vendas >= meta:\n",
    "    print('Oba! Nossos vendedores bateram a meta de {} vendas neste mês. Foram vendidos {} {}s, a um preço unitário de {}. Nosso lucro foi de {}.' .format(meta, qtde_vendas, produto, preco_unitario, lucro))\n",
    "else:\n",
    "    print('Infelizmente, este mês não batemos a meta de {} vendas. Foram vendidos {} {}s, a um preço unitário de {}. Nosso lucro foi de {}.' .format(meta, qtde_vendas, produto, preco_unitario, lucro))"
   ]
  }
 ],
 "metadata": {
  "interpreter": {
   "hash": "da7ce5f3ff9f47d24bb939b13b53992dcf854878b28fcfc53992ecbe890c179b"
  },
  "kernelspec": {
   "display_name": "Python 3.10.2 64-bit",
   "language": "python",
   "name": "python3"
  },
  "language_info": {
   "codemirror_mode": {
    "name": "ipython",
    "version": 3
   },
   "file_extension": ".py",
   "mimetype": "text/x-python",
   "name": "python",
   "nbconvert_exporter": "python",
   "pygments_lexer": "ipython3",
   "version": "3.10.2"
  }
 },
 "nbformat": 4,
 "nbformat_minor": 5
}
