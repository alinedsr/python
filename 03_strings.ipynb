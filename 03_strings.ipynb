{
 "cells": [
  {
   "cell_type": "code",
   "execution_count": 1,
   "id": "16149167",
   "metadata": {},
   "outputs": [
    {
     "name": "stdout",
     "output_type": "stream",
     "text": [
      "Trabalhando com Strings - Textos\n"
     ]
    }
   ],
   "source": [
    "print('Trabalhando com Strings - Textos')"
   ]
  },
  {
   "cell_type": "code",
   "execution_count": 3,
   "id": "f92e1dd3",
   "metadata": {},
   "outputs": [
    {
     "name": "stdout",
     "output_type": "stream",
     "text": [
      "Concatenação:\n",
      "Utilizamos o símbolo +\n",
      "Aline + da + Silveira + Rosa\n",
      "AlinedaSilveiraRosa\n"
     ]
    }
   ],
   "source": [
    "print('Concatenação:')\n",
    "print('Utilizamos o símbolo +')\n",
    "print('Aline + da + Silveira + Rosa')\n",
    "print('Aline' + 'da' + 'Silveira' + 'Rosa')"
   ]
  },
  {
   "cell_type": "code",
   "execution_count": 8,
   "id": "b358940b",
   "metadata": {},
   "outputs": [
    {
     "name": "stdout",
     "output_type": "stream",
     "text": [
      "Por padrão, a concatenação une os textos sem espaços, por isso utiliza-se um espaço antes do final de um texto ou no início de outro:\n",
      "Aline da Silveira Rosa\n"
     ]
    }
   ],
   "source": [
    "print('Por padrão, a concatenação une os textos sem espaços, por isso utiliza-se um espaço antes do final de um texto ou no início de outro:')\n",
    "print('Aline ' + 'da ' + 'Silveira ' + 'Rosa')"
   ]
  },
  {
   "cell_type": "code",
   "execution_count": 10,
   "id": "7a63a230",
   "metadata": {},
   "outputs": [
    {
     "name": "stdout",
     "output_type": "stream",
     "text": [
      "Contido:\n",
      "Utilizamos o comando in para indicar se uma string está contida em outra:\n",
      "Aline in Aline da Silveira Rosa\n",
      "True\n"
     ]
    }
   ],
   "source": [
    "print('Contido:')\n",
    "print('Utilizamos o comando in para indicar se uma string está contida em outra:')\n",
    "print('Aline in Aline da Silveira Rosa')\n",
    "print('Aline' in 'Aline da Silveira Rosa')"
   ]
  },
  {
   "cell_type": "code",
   "execution_count": 11,
   "id": "0b7eb3e2",
   "metadata": {},
   "outputs": [
    {
     "name": "stdout",
     "output_type": "stream",
     "text": [
      "O comando IN é Case Sensitive, ou seja, faz diferença se utilizamos letra maiúscula ou minúscula.\n",
      "O retorno do comando IN é um valor lógico: true ou false.\n"
     ]
    }
   ],
   "source": [
    "print('O comando IN é Case Sensitive, ou seja, faz diferença se utilizamos letra maiúscula ou minúscula.')\n",
    "print('O retorno do comando IN é um valor lógico: true ou false.')"
   ]
  }
 ],
 "metadata": {
  "kernelspec": {
   "display_name": "Python 3",
   "language": "python",
   "name": "python3"
  },
  "language_info": {
   "codemirror_mode": {
    "name": "ipython",
    "version": 3
   },
   "file_extension": ".py",
   "mimetype": "text/x-python",
   "name": "python",
   "nbconvert_exporter": "python",
   "pygments_lexer": "ipython3",
   "version": "3.8.8"
  }
 },
 "nbformat": 4,
 "nbformat_minor": 5
}
