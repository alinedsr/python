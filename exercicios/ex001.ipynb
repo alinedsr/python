{
 "cells": [
  {
   "cell_type": "markdown",
   "metadata": {},
   "source": [
    "### Dada uma seqüência de números inteiros não-nulos, seguida por 0, imprimir seus quadrados. "
   ]
  },
  {
   "cell_type": "code",
   "execution_count": 3,
   "metadata": {},
   "outputs": [
    {
     "name": "stdout",
     "output_type": "stream",
     "text": [
      "Cálculo dos quadrados de uma sequência de números.\n",
      "A sequência termina com um 0 (zero).\n",
      "\n",
      "1 ao quadrado é 1\n",
      "2 ao quadrado é 4\n",
      "3 ao quadrado é 9\n",
      "4 ao quadrado é 16\n",
      "5 ao quadrado é 25\n",
      "6 ao quadrado é 36\n",
      "7 ao quadrado é 49\n",
      "8 ao quadrado é 64\n",
      "9 ao quadrado é 81\n",
      "Não é possível fazer multiplicações por 0. \n",
      "\n",
      "Fim do programa!\n"
     ]
    }
   ],
   "source": [
    "print('Cálculo dos quadrados de uma sequência de números inteiros.')\n",
    "print('Para encerrar, digite 0 (zero).\\n')\n",
    "    \n",
    "numero = int(input('Digite um número: '))\n",
    "while numero != 0:\n",
    "    quadrado = numero * numero\n",
    "    print('O quadrado de {} é {}.' .format(numero, quadrado))\n",
    "    numero = int(input('Digite um número: '))\n",
    "print('Não é possível fazer multiplicações por 0. \\n')\n",
    "print('Fim do programa!')"
   ]
  }
 ],
 "metadata": {
  "interpreter": {
   "hash": "da7ce5f3ff9f47d24bb939b13b53992dcf854878b28fcfc53992ecbe890c179b"
  },
  "kernelspec": {
   "display_name": "Python 3.10.2 64-bit",
   "language": "python",
   "name": "python3"
  },
  "language_info": {
   "codemirror_mode": {
    "name": "ipython",
    "version": 3
   },
   "file_extension": ".py",
   "mimetype": "text/x-python",
   "name": "python",
   "nbconvert_exporter": "python",
   "pygments_lexer": "ipython3",
   "version": "3.10.2"
  },
  "orig_nbformat": 4
 },
 "nbformat": 4,
 "nbformat_minor": 2
}
