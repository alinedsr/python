{
 "cells": [
  {
   "cell_type": "markdown",
   "metadata": {},
   "source": [
    "# AND e OR"
   ]
  },
  {
   "cell_type": "code",
   "execution_count": 3,
   "metadata": {},
   "outputs": [
    {
     "name": "stdout",
     "output_type": "stream",
     "text": [
      "O bônus do funcionário foi de 150.03\n"
     ]
    }
   ],
   "source": [
    "meta_funcionario = 5000\n",
    "meta_loja = 250000\n",
    "vendas_funcionario = int(input('Quantas vendas foram feitas pelo funcionário?'))\n",
    "vendas_loja = int(input('Quantas vendas foram feitas no geral?'))\n",
    "\n",
    "if vendas_funcionario > meta_funcionario and vendas_loja > meta_loja:\n",
    "    bonus = vendas_funcionario * 0.03\n",
    "else:\n",
    "    bonus = 0\n",
    "print('O bônus do funcionário foi de {}'.format(bonus))"
   ]
  },
  {
   "cell_type": "code",
   "execution_count": 9,
   "metadata": {},
   "outputs": [
    {
     "name": "stdout",
     "output_type": "stream",
     "text": [
      "O bônus do funcionário foi de 135.0\n"
     ]
    }
   ],
   "source": [
    "meta_funcionario = 5000\n",
    "meta_loja = 250000\n",
    "avaliacao_funcionario = int(input('Qual foi a avaliação do funcionário neste período?'))\n",
    "vendas_funcionario = int(input('Quantas vendas foram feitas pelo funcionário?'))\n",
    "vendas_loja = int(input('Quantas vendas foram feitas no geral?'))\n",
    "\n",
    "if (vendas_funcionario > meta_funcionario and vendas_loja > meta_loja) or avaliacao_funcionario >= 9:\n",
    "    bonus = vendas_funcionario * 0.03\n",
    "else:\n",
    "    bonus = 0\n",
    "print('O bônus do funcionário foi de {}'.format(bonus))"
   ]
  }
 ],
 "metadata": {
  "interpreter": {
   "hash": "da7ce5f3ff9f47d24bb939b13b53992dcf854878b28fcfc53992ecbe890c179b"
  },
  "kernelspec": {
   "display_name": "Python 3.10.2 64-bit",
   "language": "python",
   "name": "python3"
  },
  "language_info": {
   "codemirror_mode": {
    "name": "ipython",
    "version": 3
   },
   "file_extension": ".py",
   "mimetype": "text/x-python",
   "name": "python",
   "nbconvert_exporter": "python",
   "pygments_lexer": "ipython3",
   "version": "3.10.2"
  },
  "orig_nbformat": 4
 },
 "nbformat": 4,
 "nbformat_minor": 2
}
