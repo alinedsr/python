{
 "cells": [
  {
   "cell_type": "markdown",
   "metadata": {},
   "source": [
    "## Utilizando Condicionais - ELIF - para casos onde há mais de uma condição agrupada."
   ]
  },
  {
   "cell_type": "code",
   "execution_count": 4,
   "metadata": {},
   "outputs": [
    {
     "name": "stdout",
     "output_type": "stream",
     "text": [
      "Parabéns! Você receberá um bônus no valor de 153.0 reais.\n"
     ]
    }
   ],
   "source": [
    "nome = str(input('Olá! Digite o seu nome: '))\n",
    "meta = float(input('Seja bem-vindo, {}. Qual foi a meta de vendas neste mês?' .format(nome)))\n",
    "vendas = float(input('Quanto foi vendido durante este mês?'))\n",
    "bonus = 0\n",
    "\n",
    "if vendas < meta:\n",
    "    print('Que pena! Você não recebeu bônus de vendas neste período.')\n",
    "elif vendas > (meta * 2):\n",
    "    bonus = vendas * 0.07\n",
    "    print('Parabéns! Você receberá um bônus no valor de {} reais.'.format(bonus))\n",
    "else:\n",
    "    bonus = (vendas * 0.03)\n",
    "    print('Parabéns! Você receberá um bônus no valor de {} reais.'.format(bonus))"
   ]
  }
 ],
 "metadata": {
  "interpreter": {
   "hash": "da7ce5f3ff9f47d24bb939b13b53992dcf854878b28fcfc53992ecbe890c179b"
  },
  "kernelspec": {
   "display_name": "Python 3.10.2 64-bit",
   "language": "python",
   "name": "python3"
  },
  "language_info": {
   "codemirror_mode": {
    "name": "ipython",
    "version": 3
   },
   "file_extension": ".py",
   "mimetype": "text/x-python",
   "name": "python",
   "nbconvert_exporter": "python",
   "pygments_lexer": "ipython3",
   "version": "3.10.2"
  },
  "orig_nbformat": 4
 },
 "nbformat": 4,
 "nbformat_minor": 2
}
