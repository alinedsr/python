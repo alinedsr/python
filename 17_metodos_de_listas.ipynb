{
 "cells": [
  {
   "cell_type": "markdown",
   "metadata": {},
   "source": [
    "# Métodos Específicos Para Listas"
   ]
  },
  {
   "cell_type": "code",
   "execution_count": 1,
   "metadata": {},
   "outputs": [
    {
     "name": "stdout",
     "output_type": "stream",
     "text": [
      "[150, 320, 110]\n"
     ]
    }
   ],
   "source": [
    "#list.append(valor)\n",
    "#Adiciona um valor ao final de uma lista\n",
    "\n",
    "vendas = [150, 320]\n",
    "vendas.append(110)\n",
    "print(vendas)"
   ]
  },
  {
   "cell_type": "code",
   "execution_count": 2,
   "metadata": {},
   "outputs": [
    {
     "name": "stdout",
     "output_type": "stream",
     "text": [
      "[150, 320, 110, 450, 390, 370, 440, 470, 900, 1000, 1100, 1050]\n"
     ]
    }
   ],
   "source": [
    "#list.extend(lista2)\n",
    "#Adiciona todos os valores da lista2 na lista original\n",
    "\n",
    "vendas = [150, 320, 110, 450, 390, 370]\n",
    "vendas_2semestre = [440, 470, 900, 1000, 1100, 1050]\n",
    "vendas.extend(vendas_2semestre)\n",
    "print(vendas)"
   ]
  },
  {
   "cell_type": "code",
   "execution_count": 4,
   "metadata": {},
   "outputs": [
    {
     "name": "stdout",
     "output_type": "stream",
     "text": [
      "[150, 110, 320]\n"
     ]
    }
   ],
   "source": [
    "\n",
    "#list.insert(posicao, valor)\n",
    "'''Adiciona um valor em uma posição específica em uma lista.\n",
    "Não é recomendado usar a não ser que seja realmente necessário\n",
    "inserir em uma posição específica, porque o método append é mais eficiente.'''\n",
    "\n",
    "vendas = [150, 320]\n",
    "vendas.insert(1, 110)\n",
    "print(vendas)\n"
   ]
  },
  {
   "cell_type": "code",
   "execution_count": 5,
   "metadata": {},
   "outputs": [
    {
     "name": "stdout",
     "output_type": "stream",
     "text": [
      "['João', 'Julia', 'Ana', 'Paulo', 'Marcus']\n"
     ]
    }
   ],
   "source": [
    "\n",
    "#list.remove(valor)\n",
    "'''Remove o valor da lista (apenas a 1ª ocorrência,\n",
    "então caso haja 2 vezes o valor na lista, apenas a 1ª será removida).\n",
    "Além disso, dá um erro caso valor não exista dentro da lista.'''\n",
    "\n",
    "vendedores = ['João', 'Julia', 'Maria', 'Ana', 'Paulo', 'Marcus']\n",
    "vendedores.remove('Maria')\n",
    "print(vendedores)\n"
   ]
  },
  {
   "cell_type": "code",
   "execution_count": 6,
   "metadata": {},
   "outputs": [
    {
     "name": "stdout",
     "output_type": "stream",
     "text": [
      "['João', 'Julia', 'Ana', 'Paulo', 'Marcus']\n",
      "Maria\n"
     ]
    }
   ],
   "source": [
    "\n",
    "#list.pop(posicao)\n",
    "'''Remove o item que está na posicao (índice) passado.\n",
    "Além disso, esse item é dado como resultado do pop,\n",
    "portanto pode ser armazenado em uma variável ou usado para outra coisa na mesma linha de código.'''\n",
    "\n",
    "vendedores = ['João', 'Julia', 'Maria', 'Ana', 'Paulo', 'Marcus']\n",
    "removidos = vendedores.pop(2)\n",
    "print(vendedores)\n",
    "print(removidos)\n"
   ]
  },
  {
   "cell_type": "code",
   "execution_count": 7,
   "metadata": {},
   "outputs": [
    {
     "name": "stdout",
     "output_type": "stream",
     "text": [
      "[]\n"
     ]
    }
   ],
   "source": [
    "\n",
    "#list.clear()\n",
    "#Remove todos os itens de uma lista\n",
    "\n",
    "vendedores = ['João', 'Julia', 'Maria', 'Ana', 'Paulo', 'Marcus']\n",
    "vendedores.clear()\n",
    "print(vendedores)"
   ]
  },
  {
   "cell_type": "code",
   "execution_count": 8,
   "metadata": {},
   "outputs": [
    {
     "name": "stdout",
     "output_type": "stream",
     "text": [
      "0\n"
     ]
    }
   ],
   "source": [
    "\n",
    "#list.index(valor)\n",
    "#Retorna a posição do valor dentro da lista (em qual índice está o valor). Dá erro caso não haja o valor dentro da lista.\n",
    "\n",
    "vendedores = ['João', 'Julia', 'Maria', 'Ana', 'Paulo', 'Marcus']\n",
    "posicao_Joao = vendedores.index('João')\n",
    "print(posicao_Joao)\n"
   ]
  },
  {
   "cell_type": "code",
   "execution_count": 9,
   "metadata": {},
   "outputs": [
    {
     "name": "stdout",
     "output_type": "stream",
     "text": [
      "2\n"
     ]
    }
   ],
   "source": [
    "\n",
    "#list.count(valor)\n",
    "#Retorna a quantidade de vezes que o valor aparece na lista\n",
    "\n",
    "vendedores = ['João', 'Julia', 'Maria', 'Ana', 'Paulo', 'Marcus', 'João']\n",
    "qtde_Joao = vendedores.count('João')\n",
    "print(qtde_Joao)\n"
   ]
  },
  {
   "cell_type": "code",
   "execution_count": 11,
   "metadata": {},
   "outputs": [
    {
     "name": "stdout",
     "output_type": "stream",
     "text": [
      "[480, 300, 190, 150]\n"
     ]
    }
   ],
   "source": [
    "\n",
    "#list.sort(reverse=False)\n",
    "#Ordena os valores da lista em ordem crescente, ou alfabética, (reverse=False) ou decrescente (reverse=True).\n",
    "\n",
    "vendas = [150, 300, 190, 480]\n",
    "vendas.sort(reverse=True)\n",
    "print(vendas)\n"
   ]
  },
  {
   "cell_type": "code",
   "execution_count": 12,
   "metadata": {},
   "outputs": [
    {
     "name": "stdout",
     "output_type": "stream",
     "text": [
      "[480, 190, 300, 150]\n"
     ]
    }
   ],
   "source": [
    "\n",
    "#list.reverse()\n",
    "#Inverte a ordem dos elementos de uma lista.\n",
    "\n",
    "vendas = [150, 300, 190, 480]\n",
    "vendas.reverse()\n",
    "print(vendas)\n"
   ]
  },
  {
   "cell_type": "code",
   "execution_count": 13,
   "metadata": {},
   "outputs": [
    {
     "name": "stdout",
     "output_type": "stream",
     "text": [
      "[150, 300, 190, 480]\n"
     ]
    }
   ],
   "source": [
    "\n",
    "#list.copy()\n",
    "#Cria uma cópia da lista original. Outra opção é fazer lista2 = lista1[:]\n",
    "\n",
    "vendas = [150, 300, 190, 480]\n",
    "vendas2 = vendas.copy() \n",
    "print (vendas2)\n"
   ]
  }
 ],
 "metadata": {
  "interpreter": {
   "hash": "da7ce5f3ff9f47d24bb939b13b53992dcf854878b28fcfc53992ecbe890c179b"
  },
  "kernelspec": {
   "display_name": "Python 3.10.2 64-bit",
   "language": "python",
   "name": "python3"
  },
  "language_info": {
   "codemirror_mode": {
    "name": "ipython",
    "version": 3
   },
   "file_extension": ".py",
   "mimetype": "text/x-python",
   "name": "python",
   "nbconvert_exporter": "python",
   "pygments_lexer": "ipython3",
   "version": "3.10.2"
  },
  "orig_nbformat": 4
 },
 "nbformat": 4,
 "nbformat_minor": 2
}
