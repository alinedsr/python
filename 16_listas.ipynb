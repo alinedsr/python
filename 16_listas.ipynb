{
 "cells": [
  {
   "cell_type": "markdown",
   "metadata": {},
   "source": [
    "# Trabalhando com Listas"
   ]
  },
  {
   "cell_type": "code",
   "execution_count": null,
   "metadata": {},
   "outputs": [],
   "source": [
    "lista = ['valor1', 'valor2', 'valor3', 'valor4', 'valor5', 'valor6', 'valor7', 'valor8', 'valor9', 'valor10']\n",
    "print(lista[0])\n",
    "print(lista[1])\n",
    "print(lista[2])\n",
    "print(lista[3])\n",
    "print(lista[4])\n",
    "print(lista[5])\n",
    "print(lista[6])\n",
    "print(lista[7])\n",
    "print(lista[8])\n",
    "print(lista[9])\n",
    "print(lista)"
   ]
  },
  {
   "cell_type": "code",
   "execution_count": null,
   "metadata": {},
   "outputs": [],
   "source": [
    "produtos = ['celular', 'notebook', 'televisão', 'teclado', 'mouse', 'headset']\n",
    "quantidades = [500, 50, 100, 250, 250, 200]\n",
    "\n",
    "print('A quantidade de {}es em estoque é de {}'.format(produtos[0],quantidades[0]))"
   ]
  },
  {
   "cell_type": "code",
   "execution_count": null,
   "metadata": {},
   "outputs": [],
   "source": [
    "produtos = ['celular', 'notebook', 'televisão', 'teclado', 'mouse', 'headset']\n",
    "quantidades = [500, 50, 100, 250, 250, 200]\n",
    "quantidades[3] = 300\n",
    "print('A quantidade do produto {} em estoque é de {}'.format(produtos[3],quantidades[3]))"
   ]
  },
  {
   "cell_type": "markdown",
   "metadata": {},
   "source": [
    "### Indíce em Listas"
   ]
  },
  {
   "cell_type": "code",
   "execution_count": null,
   "metadata": {},
   "outputs": [],
   "source": [
    "produtos = ['celular', 'notebook', 'televisão', 'teclado', 'mouse', 'headset']\n",
    "quantidades = [500, 50, 100, 250, 250, 200]\n",
    "i = produtos.index('headset')\n",
    "print(i)\n",
    "print(produtos[i], quantidades[i])\n",
    "print('A quantidade em estoque do produto {} é de {}'.format(produtos[i], quantidades[i]))"
   ]
  },
  {
   "cell_type": "code",
   "execution_count": null,
   "metadata": {},
   "outputs": [],
   "source": [
    "produtos = ['celular', 'notebook', 'televisão', 'teclado', 'mouse', 'headset']\n",
    "quantidades = [500, 50, 100, 250, 250, 200]\n",
    "produto = input('Qual produto você deseja saber a quantidade em estoque?')\n",
    "produto = produto.casefold()\n",
    "if produto in produtos:\n",
    "    i = produtos.index(produto)\n",
    "    print('A quantidade de {} em estoque é de {}.'.format(produto, quantidades[i]))\n",
    "else:\n",
    "    print('Não temos nenhuma unidade de {} em estoque.'.format(produto))"
   ]
  },
  {
   "cell_type": "markdown",
   "metadata": {},
   "source": [
    "### Adicionar ou remover itens da lista"
   ]
  },
  {
   "cell_type": "code",
   "execution_count": 94,
   "metadata": {},
   "outputs": [
    {
     "name": "stdout",
     "output_type": "stream",
     "text": [
      "['celular', 'notebook', 'televisão', 'teclado', 'mouse', 'headset', 'geladeira']\n",
      "primeiro passo\n",
      "geladeira\n",
      "quarto passo\n"
     ]
    }
   ],
   "source": [
    "if produto:\n",
    "    if produto not in produtos:\n",
    "        produtos.append(produto)\n",
    "        print(produtos)\n",
    "        (print('primeiro passo'))\n",
    "    else:\n",
    "        produtos.remove(produto)\n",
    "        print(produtos)\n",
    "        (print('segundo passo'))\n",
    "else:\n",
    "    print('Por favor, insira um nome válido.')\n",
    "\n",
    "if produto:\n",
    "    if produto not in produtos:\n",
    "        produtos.append(produto)\n",
    "        print(produtos)\n",
    "        (print('terceiro passo'))\n",
    "    else:\n",
    "        i = produtos.index(produto)\n",
    "        removidos = produtos.pop(i)\n",
    "        print(removidos)\n",
    "        (print('quarto passo'))"
   ]
  },
  {
   "cell_type": "markdown",
   "metadata": {},
   "source": [
    "### Qtd de itens na lista, maior e menor valor"
   ]
  },
  {
   "cell_type": "code",
   "execution_count": 1,
   "metadata": {},
   "outputs": [
    {
     "ename": "NameError",
     "evalue": "name 'produtos' is not defined",
     "output_type": "error",
     "traceback": [
      "\u001b[1;31m---------------------------------------------------------------------------\u001b[0m",
      "\u001b[1;31mNameError\u001b[0m                                 Traceback (most recent call last)",
      "\u001b[1;32mc:\\dev\\python\\16_listas.ipynb Cell 11'\u001b[0m in \u001b[0;36m<cell line: 1>\u001b[1;34m()\u001b[0m\n\u001b[1;32m----> <a href='vscode-notebook-cell:/c%3A/dev/python/16_listas.ipynb#ch0000010?line=0'>1</a>\u001b[0m qtd_produtos \u001b[39m=\u001b[39m \u001b[39mlen\u001b[39m(produtos)\n\u001b[0;32m      <a href='vscode-notebook-cell:/c%3A/dev/python/16_listas.ipynb#ch0000010?line=1'>2</a>\u001b[0m maior_estoque \u001b[39m=\u001b[39m \u001b[39mmax\u001b[39m(quantidades)\n\u001b[0;32m      <a href='vscode-notebook-cell:/c%3A/dev/python/16_listas.ipynb#ch0000010?line=2'>3</a>\u001b[0m menor_estoque \u001b[39m=\u001b[39m \u001b[39mmin\u001b[39m(quantidades)\n",
      "\u001b[1;31mNameError\u001b[0m: name 'produtos' is not defined"
     ]
    }
   ],
   "source": [
    "qtd_produtos = len(produtos)\n",
    "maior_estoque = max(quantidades)\n",
    "menor_estoque = min(quantidades)\n",
    "produto_mais_estoque = quantidades.index(maior_estoque)\n",
    "produto_menor_estoque = quantidades.index(menor_estoque)\n",
    "print(qtd_produtos, maior_estoque, menor_estoque)\n",
    "\n",
    "print('Atualmente, contamos com {} produtos em estoque, sendo {} o produto com maior estoque, com {} unidades, e {} o produto com menor estoque, com {} unidades.'.format(qtd_produtos, produtos[produto_mais_estoque], maior_estoque, produtos[produto_menor_estoque], menor_estoque))"
   ]
  },
  {
   "cell_type": "markdown",
   "metadata": {},
   "source": [
    "### Juntar e Ordenar Listas"
   ]
  },
  {
   "cell_type": "code",
   "execution_count": 3,
   "metadata": {},
   "outputs": [
    {
     "name": "stdout",
     "output_type": "stream",
     "text": [
      "['apple tv', 'mac', 'iphone x', 'iphone 11', 'IPad', 'apple watch', 'mac book', 'airpods', 'iphone 12', 'ioculos']\n"
     ]
    }
   ],
   "source": [
    "produtos = ['apple tv', 'mac', 'iphone x', 'iphone 11', 'IPad', 'apple watch', 'mac book', 'airpods']\n",
    "novos_produtos = ['iphone 12', 'ioculos']\n",
    "\n",
    "todos_produtos = produtos + novos_produtos\n",
    "print(todos_produtos)"
   ]
  },
  {
   "cell_type": "code",
   "execution_count": 6,
   "metadata": {},
   "outputs": [
    {
     "name": "stdout",
     "output_type": "stream",
     "text": [
      "['apple tv', 'mac', 'iphone x', 'iphone 11', 'IPad', 'apple watch', 'mac book', 'airpods', 'iphone 12', 'ioculos']\n"
     ]
    }
   ],
   "source": [
    "produtos = ['apple tv', 'mac', 'iphone x', 'iphone 11', 'IPad', 'apple watch', 'mac book', 'airpods']\n",
    "novos_produtos = ['iphone 12', 'ioculos']\n",
    "\n",
    "produtos.extend(novos_produtos)\n",
    "print(produtos)"
   ]
  },
  {
   "cell_type": "code",
   "execution_count": 7,
   "metadata": {},
   "outputs": [
    {
     "name": "stdout",
     "output_type": "stream",
     "text": [
      "35000\n",
      "35000\n"
     ]
    }
   ],
   "source": [
    "vendas = [1000, 1500, 15000, 20000, 270, 900, 100, 1200]\n",
    "vendas_iphonex = [15000]\n",
    "vendas_iphone11 = [20000]\n",
    "\n",
    "total_iphone = vendas[2] + vendas[3]\n",
    "total_iphone_listas = vendas_iphonex[0] + vendas_iphone11[0]\n",
    "print(total_iphone)\n",
    "print(total_iphone_listas)"
   ]
  },
  {
   "cell_type": "code",
   "execution_count": 9,
   "metadata": {},
   "outputs": [
    {
     "name": "stdout",
     "output_type": "stream",
     "text": [
      "[100, 270, 900, 1000, 1200, 1500, 15000, 20000]\n",
      "[20000, 15000, 1500, 1200, 1000, 900, 270, 100]\n"
     ]
    }
   ],
   "source": [
    "vendas.sort(reverse=False)\n",
    "print(vendas)\n",
    "\n",
    "vendas.sort(reverse=True)\n",
    "print(vendas)"
   ]
  },
  {
   "cell_type": "markdown",
   "metadata": {},
   "source": [
    "### Print de Listas"
   ]
  },
  {
   "cell_type": "code",
   "execution_count": 14,
   "metadata": {},
   "outputs": [
    {
     "name": "stdout",
     "output_type": "stream",
     "text": [
      "['apple tv', 'mac', 'iphone x', 'iphone 11', 'IPad', 'apple watch', 'mac book', 'airpods']\n",
      "----------------------------------------------------------------\n",
      "apple tv\n",
      "mac\n",
      "iphone x\n",
      "iphone 11\n",
      "IPad\n",
      "apple watch\n",
      "mac book\n",
      "airpods\n",
      "----------------------------------------------------------------\n",
      "['apple tv', 'mac', 'iphone x', 'iphone 11', 'IPad', 'apple watch', 'mac book', 'airpods']\n"
     ]
    }
   ],
   "source": [
    "produtos = ['apple tv', 'mac', 'iphone x', 'iphone 11', 'IPad', 'apple watch', 'mac book', 'airpods']\n",
    "print(produtos)\n",
    "print('----------------------------------------------------------------')\n",
    "print('\\n'.join(produtos))\n",
    "print('----------------------------------------------------------------')\n",
    "produtos = 'apple tv, mac, iphone x, iphone 11, IPad, apple watch, mac book, airpods'\n",
    "lista = produtos.split(', ')\n",
    "print(lista)"
   ]
  },
  {
   "cell_type": "markdown",
   "metadata": {},
   "source": [
    "### Copiando Listas"
   ]
  },
  {
   "cell_type": "code",
   "execution_count": 17,
   "metadata": {},
   "outputs": [
    {
     "name": "stdout",
     "output_type": "stream",
     "text": [
      "['ipad', 'iphone 11', 'apple tv']\n",
      "['ipad', 'iphone 11', 'apple tv']\n",
      "----------------------------------------------------------------\n",
      "['ipad', 'iphone 11', 'apple tv']\n",
      "['ipad', 'iphone x', 'apple tv']\n"
     ]
    }
   ],
   "source": [
    "lista = ['ipad', 'iphone x', 'apple tv']\n",
    "lista2 = lista\n",
    "lista[1] = 'iphone 11'\n",
    "print(lista)\n",
    "print(lista2)\n",
    "\n",
    "print('----------------------------------------------------------------')\n",
    "\n",
    "lista = ['ipad', 'iphone x', 'apple tv']\n",
    "lista2 = lista[:]\n",
    "lista[1] = 'iphone 11'\n",
    "print(lista)\n",
    "print(lista2)"
   ]
  },
  {
   "cell_type": "markdown",
   "metadata": {},
   "source": [
    "### Lista de Listas (listas aninhadas)"
   ]
  },
  {
   "cell_type": "code",
   "execution_count": 18,
   "metadata": {},
   "outputs": [],
   "source": [
    "vendedores = ['Lira', 'João', 'Diego', 'Alon']\n",
    "produtos = ['ipad', 'iphone']\n",
    "vendas = [\n",
    "    [100, 200],\n",
    "    [300, 500],\n",
    "    [50, 1000],\n",
    "    [900, 10],\n",
    "]"
   ]
  },
  {
   "cell_type": "markdown",
   "metadata": {},
   "source": [
    "\n",
    "    Quanto João vendeu de IPad?\n",
    "    Quanto Diego vendeu de IPhone\n",
    "    Qual o total de vendas de IPhone?\n",
    "\n"
   ]
  },
  {
   "cell_type": "code",
   "execution_count": 19,
   "metadata": {},
   "outputs": [
    {
     "name": "stdout",
     "output_type": "stream",
     "text": [
      "300\n",
      "1000\n",
      "1710\n"
     ]
    }
   ],
   "source": [
    "vendas_ipad_joao = vendas[1][0]\n",
    "print(vendas_ipad_joao)\n",
    "\n",
    "vendas_iphone_diego = vendas[2][1]\n",
    "print(vendas_iphone_diego)\n",
    "\n",
    "vendas_iphone = vendas[0][1] + vendas[1][1] + vendas[2][1] + vendas[3][1]\n",
    "print(vendas_iphone)"
   ]
  },
  {
   "cell_type": "markdown",
   "metadata": {},
   "source": [
    "E se Lira na verdade fez apenas 50 vendas de IPhone, como eu modifico na minha lista o valor de vendas dele?"
   ]
  },
  {
   "cell_type": "code",
   "execution_count": 20,
   "metadata": {},
   "outputs": [
    {
     "name": "stdout",
     "output_type": "stream",
     "text": [
      "[[100, 50], [300, 500], [50, 1000], [900, 10]]\n"
     ]
    }
   ],
   "source": [
    "vendas[0][1] = 50\n",
    "print(vendas)"
   ]
  },
  {
   "cell_type": "markdown",
   "metadata": {},
   "source": [
    "E se agora eu tenho um novo produto 'mac', como eu adiciono as vendas em cada um dos vendedores?"
   ]
  },
  {
   "cell_type": "code",
   "execution_count": 21,
   "metadata": {},
   "outputs": [
    {
     "name": "stdout",
     "output_type": "stream",
     "text": [
      "[[100, 50, 10], [300, 500, 15], [50, 1000, 6], [900, 10, 70]]\n"
     ]
    }
   ],
   "source": [
    "vendas_mac = [10, 15, 6, 70]\n",
    "\n",
    "vendas[0].append(vendas_mac[0])\n",
    "vendas[1].append(vendas_mac[1])\n",
    "vendas[2].append(vendas_mac[2])\n",
    "vendas[3].append(vendas_mac[3])\n",
    "\n",
    "print(vendas)"
   ]
  }
 ],
 "metadata": {
  "interpreter": {
   "hash": "da7ce5f3ff9f47d24bb939b13b53992dcf854878b28fcfc53992ecbe890c179b"
  },
  "kernelspec": {
   "display_name": "Python 3.10.2 64-bit",
   "language": "python",
   "name": "python3"
  },
  "language_info": {
   "codemirror_mode": {
    "name": "ipython",
    "version": 3
   },
   "file_extension": ".py",
   "mimetype": "text/x-python",
   "name": "python",
   "nbconvert_exporter": "python",
   "pygments_lexer": "ipython3",
   "version": "3.10.2"
  },
  "orig_nbformat": 4
 },
 "nbformat": 4,
 "nbformat_minor": 2
}
