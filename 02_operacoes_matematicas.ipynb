{
 "cells": [
  {
   "cell_type": "code",
   "execution_count": 4,
   "id": "a4501ed4",
   "metadata": {},
   "outputs": [
    {
     "name": "stdout",
     "output_type": "stream",
     "text": [
      "Trabalhando com Operações Matemáticas:\n"
     ]
    }
   ],
   "source": [
    "print('Trabalhando com Operações Matemáticas:')"
   ]
  },
  {
   "cell_type": "code",
   "execution_count": 6,
   "id": "1b92b797",
   "metadata": {},
   "outputs": [
    {
     "name": "stdout",
     "output_type": "stream",
     "text": [
      "Adição:\n",
      "2 + 2\n",
      "4\n"
     ]
    }
   ],
   "source": [
    "print('Adição:')\n",
    "print('2 + 2')\n",
    "print(2 + 2)"
   ]
  },
  {
   "cell_type": "code",
   "execution_count": 8,
   "id": "64af5c86",
   "metadata": {},
   "outputs": [
    {
     "name": "stdout",
     "output_type": "stream",
     "text": [
      "Subtração:\n",
      "3 - 2\n",
      "5\n"
     ]
    }
   ],
   "source": [
    "print('Subtração:')\n",
    "print('3 - 2')\n",
    "print(3 + 2)"
   ]
  },
  {
   "cell_type": "code",
   "execution_count": 10,
   "id": "1f80d639",
   "metadata": {},
   "outputs": [
    {
     "name": "stdout",
     "output_type": "stream",
     "text": [
      "Multiplicação:\n",
      "2 * 2\n",
      "4\n"
     ]
    }
   ],
   "source": [
    "print('Multiplicação:')\n",
    "print('2 * 2')\n",
    "print(2 * 2)"
   ]
  },
  {
   "cell_type": "code",
   "execution_count": 12,
   "id": "76160dbc",
   "metadata": {},
   "outputs": [
    {
     "name": "stdout",
     "output_type": "stream",
     "text": [
      "Divisão:\n",
      "10 / 2\n",
      "5.0\n"
     ]
    }
   ],
   "source": [
    "print('Divisão:')\n",
    "print('10 / 2')\n",
    "print(10 / 2)"
   ]
  },
  {
   "cell_type": "code",
   "execution_count": 14,
   "id": "d590ef9d",
   "metadata": {},
   "outputs": [
    {
     "name": "stdout",
     "output_type": "stream",
     "text": [
      "Potência:\n",
      "2 ** 3\n",
      "8\n"
     ]
    }
   ],
   "source": [
    "print('Potência:')\n",
    "print('2 ** 3')\n",
    "print(2 ** 3)"
   ]
  },
  {
   "cell_type": "code",
   "execution_count": 15,
   "id": "20c5a476",
   "metadata": {},
   "outputs": [
    {
     "name": "stdout",
     "output_type": "stream",
     "text": [
      "Módulo - resto da divisão:\n",
      "5 % 2\n",
      "1\n"
     ]
    }
   ],
   "source": [
    "print('Módulo - resto da divisão:')\n",
    "print('5 % 2')\n",
    "print(5 % 2)"
   ]
  }
 ],
 "metadata": {
  "kernelspec": {
   "display_name": "Python 3",
   "language": "python",
   "name": "python3"
  },
  "language_info": {
   "codemirror_mode": {
    "name": "ipython",
    "version": 3
   },
   "file_extension": ".py",
   "mimetype": "text/x-python",
   "name": "python",
   "nbconvert_exporter": "python",
   "pygments_lexer": "ipython3",
   "version": "3.8.8"
  }
 },
 "nbformat": 4,
 "nbformat_minor": 5
}
