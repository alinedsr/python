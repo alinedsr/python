{
 "cells": [
  {
   "cell_type": "markdown",
   "metadata": {},
   "source": [
    "## Método Format - Exemplos de Formatação"
   ]
  },
  {
   "cell_type": "markdown",
   "metadata": {},
   "source": [
    "##### Alinhamento de Texto\n",
    "###### :^\n",
    "###### :>\n",
    "###### :<"
   ]
  },
  {
   "cell_type": "code",
   "execution_count": 7,
   "metadata": {},
   "outputs": [
    {
     "name": "stdout",
     "output_type": "stream",
     "text": [
      "Olá, meu nome é .Aline                         .\n",
      "Olá, meu nome é .            Aline             .\n",
      "Olá, meu nome é .                         Aline.\n"
     ]
    }
   ],
   "source": [
    "nome = 'Aline'\n",
    "\n",
    "#Alinhando à esquerda\n",
    "print('Olá, meu nome é .{:<30}.'.format(nome))\n",
    "#Centralizando\n",
    "print('Olá, meu nome é .{:^30}.'.format(nome))\n",
    "#Alinhando à direita\n",
    "print('Olá, meu nome é .{:>30}.'.format(nome))"
   ]
  },
  {
   "cell_type": "markdown",
   "metadata": {},
   "source": [
    "### Adicionando sinal à numeração"
   ]
  },
  {
   "cell_type": "code",
   "execution_count": 8,
   "metadata": {},
   "outputs": [
    {
     "name": "stdout",
     "output_type": "stream",
     "text": [
      "O custo no período foi de +500. O faturamento foi de +300. Portanto, nosso lucro ficou em -200 reais.\n"
     ]
    }
   ],
   "source": [
    "custo = 500\n",
    "faturamento = 300\n",
    "lucro = faturamento - custo\n",
    "\n",
    "print('O custo no período foi de {:+}. O faturamento foi de {:+}. Portanto, nosso lucro ficou em {:+} reais.'.format(custo, faturamento,lucro))"
   ]
  },
  {
   "cell_type": "markdown",
   "metadata": {},
   "source": [
    "### Vírgula como separador de milhar"
   ]
  },
  {
   "cell_type": "code",
   "execution_count": 10,
   "metadata": {},
   "outputs": [
    {
     "name": "stdout",
     "output_type": "stream",
     "text": [
      "O custo no período foi de +50,000. O faturamento foi de +30,000. Portanto, nosso lucro ficou em -20,000 reais.\n"
     ]
    }
   ],
   "source": [
    "custo = 50000\n",
    "faturamento = 30000\n",
    "lucro = faturamento - custo\n",
    "\n",
    "print('O custo no período foi de {:+,}. O faturamento foi de {:+,}. Portanto, nosso lucro ficou em {:+,} reais.'.format(custo, faturamento,lucro))"
   ]
  },
  {
   "cell_type": "markdown",
   "metadata": {},
   "source": [
    "### Underline como separador de milhar"
   ]
  },
  {
   "cell_type": "code",
   "execution_count": 21,
   "metadata": {},
   "outputs": [
    {
     "name": "stdout",
     "output_type": "stream",
     "text": [
      "O custo no período foi de +50_000. O faturamento foi de +30_000. Portanto, nosso lucro ficou em -20_000 reais.\n"
     ]
    }
   ],
   "source": [
    "custo = 50000\n",
    "faturamento = 30000\n",
    "lucro = faturamento - custo\n",
    "\n",
    "print('O custo no período foi de {:+_}. O faturamento foi de {:+_}. Portanto, nosso lucro ficou em {:+_} reais.'.format(custo, faturamento,lucro))"
   ]
  },
  {
   "cell_type": "markdown",
   "metadata": {},
   "source": [
    "### Casas decimais fixas"
   ]
  },
  {
   "cell_type": "code",
   "execution_count": 11,
   "metadata": {},
   "outputs": [
    {
     "name": "stdout",
     "output_type": "stream",
     "text": [
      "O custo no período foi de +50,000.00. O faturamento foi de +30,000.0. Portanto, nosso lucro ficou em -20,000.000 reais.\n"
     ]
    }
   ],
   "source": [
    "custo = 50000\n",
    "faturamento = 30000\n",
    "lucro = faturamento - custo\n",
    "\n",
    "print('O custo no período foi de {:+,.2f}. O faturamento foi de {:+,.1f}. Portanto, nosso lucro ficou em {:+,.3f} reais.'.format(custo, faturamento,lucro))"
   ]
  },
  {
   "cell_type": "markdown",
   "metadata": {},
   "source": [
    "### Formato Percentual"
   ]
  },
  {
   "cell_type": "code",
   "execution_count": 13,
   "metadata": {},
   "outputs": [
    {
     "name": "stdout",
     "output_type": "stream",
     "text": [
      "O custo no período foi de +50,000.00. O faturamento foi de +30,000.0. Portanto, nosso lucro ficou em -20,000.000 reais.\n",
      "A margem de lucro do período foi de -66.667%\n"
     ]
    }
   ],
   "source": [
    "custo = 50000\n",
    "faturamento = 30000\n",
    "lucro = faturamento - custo\n",
    "margem = lucro / faturamento\n",
    "\n",
    "print('O custo no período foi de {:+,.2f}. O faturamento foi de {:+,.1f}. Portanto, nosso lucro ficou em {:+,.3f} reais.'.format(custo, faturamento,lucro))\n",
    "print('A margem de lucro do período foi de {:.3%}'.format(margem))"
   ]
  },
  {
   "cell_type": "markdown",
   "metadata": {},
   "source": [
    "### Formato Moeda"
   ]
  },
  {
   "cell_type": "code",
   "execution_count": 20,
   "metadata": {},
   "outputs": [
    {
     "name": "stdout",
     "output_type": "stream",
     "text": [
      "Faturamento foi R$27,000.00 e lucro foi R$22,000.00\n",
      "R$22_000.00\n",
      "R$22.000,00\n"
     ]
    }
   ],
   "source": [
    "custo = 5000\n",
    "faturamento = 27000\n",
    "lucro = faturamento - custo\n",
    "print('Faturamento foi R${:,.2f} e lucro foi R${:,.2f}'.format(faturamento, lucro))\n",
    "\n",
    "#transformando no formato brasileiro\n",
    "lucro_texto = 'R${:_.2f}'.format(lucro)\n",
    "print(lucro_texto)\n",
    "print(lucro_texto.replace('.', ',').replace('_', '.'))"
   ]
  },
  {
   "cell_type": "markdown",
   "metadata": {},
   "source": [
    "### Arredondando Números"
   ]
  },
  {
   "cell_type": "code",
   "execution_count": 19,
   "metadata": {},
   "outputs": [
    {
     "name": "stdout",
     "output_type": "stream",
     "text": [
      "Imposto sobre o preço é de 15.8\n"
     ]
    }
   ],
   "source": [
    "imposto = 0.15758\n",
    "preco = 100\n",
    "valor_imposto = round(preco * imposto, 1)\n",
    "print('Imposto sobre o preço é de {}'.format(valor_imposto))"
   ]
  }
 ],
 "metadata": {
  "interpreter": {
   "hash": "da7ce5f3ff9f47d24bb939b13b53992dcf854878b28fcfc53992ecbe890c179b"
  },
  "kernelspec": {
   "display_name": "Python 3.10.2 64-bit",
   "language": "python",
   "name": "python3"
  },
  "language_info": {
   "codemirror_mode": {
    "name": "ipython",
    "version": 3
   },
   "file_extension": ".py",
   "mimetype": "text/x-python",
   "name": "python",
   "nbconvert_exporter": "python",
   "pygments_lexer": "ipython3",
   "version": "3.10.2"
  },
  "orig_nbformat": 4
 },
 "nbformat": 4,
 "nbformat_minor": 2
}
