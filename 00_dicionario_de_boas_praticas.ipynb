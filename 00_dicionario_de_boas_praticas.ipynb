{
 "cells": [
  {
   "cell_type": "code",
   "execution_count": 1,
   "id": "21a17ff3",
   "metadata": {},
   "outputs": [
    {
     "name": "stdout",
     "output_type": "stream",
     "text": [
      "Olá, mundo! Neste notebook, vou listar as boas práticas de programação em Python aprendidas na formação Python Impressionador, da Hashtag Treinamentos.\n"
     ]
    }
   ],
   "source": [
    "print('Olá, mundo! Neste notebook, vou listar as boas práticas de programação em Python aprendidas na formação Python Impressionador, da Hashtag Treinamentos.')"
   ]
  },
  {
   "cell_type": "code",
   "execution_count": 2,
   "id": "5eef7d11",
   "metadata": {},
   "outputs": [
    {
     "name": "stdout",
     "output_type": "stream",
     "text": [
      "Regra número #01:\n",
      "É uma boa prática utilizar espaço entre os símbolos de operações. Isto torna o código mais legível, facilita compreensão e manutenção.\n"
     ]
    }
   ],
   "source": [
    "print('Regra número #01:')\n",
    "print('É uma boa prática utilizar espaço entre os símbolos de operações. Isto torna o código mais legível, facilita compreensão e manutenção.')"
   ]
  },
  {
   "cell_type": "code",
   "execution_count": 3,
   "id": "81263fe2",
   "metadata": {},
   "outputs": [
    {
     "name": "stdout",
     "output_type": "stream",
     "text": [
      "Regra número #02:\n",
      "Opte por utilizar aspas simples OU aspas duplas, e mantenha o padrão escolhido em todo o desenvolvimento da aplicação. Nota: a preferência é que sejam utilizadas aspas simples.\n"
     ]
    }
   ],
   "source": [
    "print('Regra número #02:')\n",
    "print('Opte por utilizar aspas simples OU aspas duplas, e mantenha o padrão escolhido em todo o desenvolvimento da aplicação. Nota: a preferência é que sejam utilizadas aspas simples.')"
   ]
  },
  {
   "cell_type": "code",
   "execution_count": 7,
   "id": "d0be35e0",
   "metadata": {},
   "outputs": [
    {
     "name": "stdout",
     "output_type": "stream",
     "text": [
      "Regra número 03:\n",
      "A ordem de execução do programa é feita de cima para baixo, portanto o código precisa ser escrito em ordem.\n"
     ]
    }
   ],
   "source": [
    "print('Regra número 03:')\n",
    "print('A ordem de execução do programa é feita de cima para baixo, portanto o código precisa ser escrito em ordem.')"
   ]
  },
  {
   "cell_type": "code",
   "execution_count": null,
   "id": "db81acb5",
   "metadata": {},
   "outputs": [],
   "source": [
    "print('Regra número 04:')\n",
    "print('As palavras reservadas não podem ser utilizadas como nome de variáveis. Exemplo: int')\n",
    "print('De preferencia, utilizar os nomes em português, sem acentos, com underline como espaçador.')"
   ]
  }
 ],
 "metadata": {
  "kernelspec": {
   "display_name": "Python 3",
   "language": "python",
   "name": "python3"
  },
  "language_info": {
   "codemirror_mode": {
    "name": "ipython",
    "version": 3
   },
   "file_extension": ".py",
   "mimetype": "text/x-python",
   "name": "python",
   "nbconvert_exporter": "python",
   "pygments_lexer": "ipython3",
   "version": "3.8.8"
  }
 },
 "nbformat": 4,
 "nbformat_minor": 5
}
