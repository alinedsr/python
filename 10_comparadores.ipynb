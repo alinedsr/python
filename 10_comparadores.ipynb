{
 "cells": [
  {
   "cell_type": "markdown",
   "metadata": {},
   "source": [
    "## Trabalhando com Comparadores"
   ]
  },
  {
   "cell_type": "markdown",
   "metadata": {},
   "source": [
    "==          --> Igual\n",
    "!=          --> Diferente\n",
    ">           --> Maior\n",
    "<           --> Menor\n",
    ">=          --> Maior ou Igual \n",
    "<=          --> Menor ou Igual\n",
    "in          --> Texto está contido (existe) em outro texto\n",
    "not         --> Texto não está contido (não existe) em outro texto\n",
    "pass        --> Para ignorar a condição (não fazer nada)"
   ]
  },
  {
   "cell_type": "code",
   "execution_count": 3,
   "metadata": {},
   "outputs": [
    {
     "name": "stdout",
     "output_type": "stream",
     "text": [
      "Utilizando Igual, maior e menor\n",
      "As lojas tiveram o mesmo faturamento.\n"
     ]
    }
   ],
   "source": [
    "faturamento_loja_1 = int(input('Quanto foi o faturamento da primeira loja?'))\n",
    "faturamento_loja_2 = int(input('Quanto foi o faturamento da segunda loja?'))\n",
    "\n",
    "print('Utilizando Igual, maior e menor')\n",
    "if faturamento_loja_1 == faturamento_loja_2:\n",
    "    print('As lojas tiveram o mesmo faturamento.')\n",
    "else:\n",
    "    if faturamento_loja_1 > faturamento_loja_2:\n",
    "        print('O faturamento da primeira loja foi maior do que o faturamento da segunda loja.')\n",
    "    if faturamento_loja_1 < faturamento_loja_2:\n",
    "        print('A segunda loja teve faturamento maior do que a primeira.')"
   ]
  },
  {
   "cell_type": "code",
   "execution_count": 7,
   "metadata": {},
   "outputs": [
    {
     "name": "stdout",
     "output_type": "stream",
     "text": [
      "E-mail cadastrado com sucesso.\n"
     ]
    }
   ],
   "source": [
    "email = input('Digite o seu e-mail:')\n",
    "\n",
    "if not '@' in email:\n",
    "    print('E-mail incorreto.')\n",
    "else:\n",
    "    print('E-mail cadastrado com sucesso.')"
   ]
  },
  {
   "cell_type": "code",
   "execution_count": 9,
   "metadata": {},
   "outputs": [],
   "source": [
    "email = input('Digite o seu e-mail:')\n",
    "\n",
    "if not '@' in email:\n",
    "    print('E-mail incorreto.')\n",
    "else:\n",
    "    pass"
   ]
  }
 ],
 "metadata": {
  "interpreter": {
   "hash": "da7ce5f3ff9f47d24bb939b13b53992dcf854878b28fcfc53992ecbe890c179b"
  },
  "kernelspec": {
   "display_name": "Python 3.10.2 64-bit",
   "language": "python",
   "name": "python3"
  },
  "language_info": {
   "codemirror_mode": {
    "name": "ipython",
    "version": 3
   },
   "file_extension": ".py",
   "mimetype": "text/x-python",
   "name": "python",
   "nbconvert_exporter": "python",
   "pygments_lexer": "ipython3",
   "version": "3.10.2"
  },
  "orig_nbformat": 4
 },
 "nbformat": 4,
 "nbformat_minor": 2
}
