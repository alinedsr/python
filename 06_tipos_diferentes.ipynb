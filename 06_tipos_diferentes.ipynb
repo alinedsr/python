{
 "cells": [
  {
   "cell_type": "markdown",
   "id": "3916896e",
   "metadata": {},
   "source": [
    "# Trabalhando com tipos de variáveis diferentes"
   ]
  },
  {
   "cell_type": "code",
   "execution_count": 2,
   "id": "ba501f1f",
   "metadata": {},
   "outputs": [
    {
     "name": "stdout",
     "output_type": "stream",
     "text": [
      "O faturamento da loja foi faturamento\n"
     ]
    }
   ],
   "source": [
    "faturamento = 1000\n",
    "print('O faturamento da loja foi faturamento')"
   ]
  },
  {
   "cell_type": "code",
   "execution_count": 4,
   "id": "30f2f7f6",
   "metadata": {},
   "outputs": [
    {
     "ename": "TypeError",
     "evalue": "can only concatenate str (not \"int\") to str",
     "output_type": "error",
     "traceback": [
      "\u001b[1;31m---------------------------------------------------------------------------\u001b[0m",
      "\u001b[1;31mTypeError\u001b[0m                                 Traceback (most recent call last)",
      "\u001b[1;32m<ipython-input-4-5f805e2a5d5f>\u001b[0m in \u001b[0;36m<module>\u001b[1;34m\u001b[0m\n\u001b[0;32m      1\u001b[0m \u001b[0mfaturamento\u001b[0m \u001b[1;33m=\u001b[0m \u001b[1;36m1000\u001b[0m\u001b[1;33m\u001b[0m\u001b[1;33m\u001b[0m\u001b[0m\n\u001b[1;32m----> 2\u001b[1;33m \u001b[0mprint\u001b[0m\u001b[1;33m(\u001b[0m\u001b[1;34m'O faturamento da loja foi '\u001b[0m \u001b[1;33m+\u001b[0m \u001b[0mfaturamento\u001b[0m\u001b[1;33m)\u001b[0m\u001b[1;33m\u001b[0m\u001b[1;33m\u001b[0m\u001b[0m\n\u001b[0m",
      "\u001b[1;31mTypeError\u001b[0m: can only concatenate str (not \"int\") to str"
     ]
    }
   ],
   "source": [
    "faturamento = 1000\n",
    "#print('O faturamento da loja foi ' + faturamento)"
   ]
  },
  {
   "cell_type": "code",
   "execution_count": 6,
   "id": "27298fc8",
   "metadata": {},
   "outputs": [
    {
     "name": "stdout",
     "output_type": "stream",
     "text": [
      "O faturamento da loja foi 1000\n"
     ]
    }
   ],
   "source": [
    "faturamento = 1000\n",
    "print('O faturamento da loja foi ' + str(faturamento))"
   ]
  },
  {
   "cell_type": "code",
   "execution_count": 8,
   "id": "5e7d9207",
   "metadata": {},
   "outputs": [
    {
     "name": "stdout",
     "output_type": "stream",
     "text": [
      "A função \"str\" transforma outro tipo de variável em texto, possibilitanto a concatenação.\n"
     ]
    }
   ],
   "source": [
    "print('A função \"str\" transforma outro tipo de variável em texto, possibilitanto a concatenação.')"
   ]
  },
  {
   "cell_type": "code",
   "execution_count": 10,
   "id": "53362158",
   "metadata": {},
   "outputs": [
    {
     "name": "stdout",
     "output_type": "stream",
     "text": [
      "O faturamento da loja foi 2000\n",
      "O custo da loja foi 500\n",
      "Portanto, o lucro da loja foi de 1500 reais.\n"
     ]
    }
   ],
   "source": [
    "faturamento = 2000\n",
    "custo = 500\n",
    "lucro = faturamento - custo\n",
    "print('O faturamento da loja foi ' + str(faturamento))\n",
    "print('O custo da loja foi ' + str(custo))\n",
    "print('Portanto, o lucro da loja foi de ' + str(lucro) + ' reais.')"
   ]
  }
 ],
 "metadata": {
  "kernelspec": {
   "display_name": "Python 3",
   "language": "python",
   "name": "python3"
  },
  "language_info": {
   "codemirror_mode": {
    "name": "ipython",
    "version": 3
   },
   "file_extension": ".py",
   "mimetype": "text/x-python",
   "name": "python",
   "nbconvert_exporter": "python",
   "pygments_lexer": "ipython3",
   "version": "3.8.8"
  }
 },
 "nbformat": 4,
 "nbformat_minor": 5
}
