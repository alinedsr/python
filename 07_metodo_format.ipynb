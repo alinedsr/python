{
 "cells": [
  {
   "cell_type": "markdown",
   "id": "0a06215e",
   "metadata": {},
   "source": [
    "# Trabalhando com o Método Format"
   ]
  },
  {
   "cell_type": "code",
   "execution_count": 4,
   "id": "3fb43373",
   "metadata": {},
   "outputs": [
    {
     "name": "stdout",
     "output_type": "stream",
     "text": [
      "O faturamento da loja foi 5000. O custo da loja foi 1000. Assim, o lucro da loja foi 4000 reais.\n"
     ]
    }
   ],
   "source": [
    "faturamento = 5000\n",
    "custo = 1000\n",
    "lucro = faturamento - custo\n",
    "\n",
    "print('O faturamento da loja foi {}. O custo da loja foi {}. Assim, o lucro da loja foi {} reais.' .format(faturamento, custo, lucro))"
   ]
  }
 ],
 "metadata": {
  "kernelspec": {
   "display_name": "Python 3",
   "language": "python",
   "name": "python3"
  },
  "language_info": {
   "codemirror_mode": {
    "name": "ipython",
    "version": 3
   },
   "file_extension": ".py",
   "mimetype": "text/x-python",
   "name": "python",
   "nbconvert_exporter": "python",
   "pygments_lexer": "ipython3",
   "version": "3.8.8"
  }
 },
 "nbformat": 4,
 "nbformat_minor": 5
}
