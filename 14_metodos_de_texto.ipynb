{
 "cells": [
  {
   "cell_type": "markdown",
   "metadata": {},
   "source": [
    "### Trabalhando com Métodos de String"
   ]
  },
  {
   "cell_type": "markdown",
   "metadata": {},
   "source": [
    "######  capitalize() -> Coloca a 1ª letra Maiúscula\n",
    "######  casefold() -> Transforma todas as letras em minúsculas (existe lower() mas o casefold é melhor normalmente)\n",
    "######  count() -> Quantidade de vezes que um valor aparece na string\n",
    "######  endswith() -> Verifica se o texto termina com um valor específico e dá como resposta True ou False\n",
    "######  find() -> Procura um texto dentro de outro texto e dá como resposta a posição do texto encontrado\n",
    "######  format() -> Formata uma string de acordo com os valores passados. Já usamos bastante ao longo do programa.\n",
    "######  isalnum() -> Verifica se um texto é todo feito com caracteres alfanuméricos (letras e números) -> letras com acento ou ç são considerados letras para essa função.\n",
    "######  isalpha() -> Verifica se um texto é todo feito de letras.\n",
    "######  isnumeric() -> Verifica se um texto é todo feito por números.\n",
    "######  replace() -> Substitui um texto por um outro texto em uma string.\n",
    "######  split() -> Separa uma string de acordo com um delimitador em vários textos diferentes.\n",
    "######  splitlines() -> separa um texto em vários textos de acordo com os \"enters\" do texto\n",
    "######  startswith() -> Verifica se a string começa com determinado texto\n",
    "######  strip() -> Retira caracteres indesejados dos textos. Por padrão, retira espaços \"extras\" no início e no final\n",
    "######  title() -> Coloca a 1ª letra de cada palavra em maiúscula\n",
    "######  upper() -> Coloca o texto todo em letra maiúscula"
   ]
  },
  {
   "cell_type": "code",
   "execution_count": 7,
   "metadata": {},
   "outputs": [
    {
     "name": "stdout",
     "output_type": "stream",
     "text": [
      "Nome completo do usuário\n",
      "NOME COMPLETO DO USUÁRIO\n",
      "nome completo do usuário\n",
      "Nome Completo Do Usuário\n"
     ]
    }
   ],
   "source": [
    "texto = 'nome completo DO USUÁRIO'\n",
    "print(texto.capitalize())\n",
    "print(texto.upper())\n",
    "print(texto.casefold())\n",
    "print(texto.title())"
   ]
  },
  {
   "cell_type": "code",
   "execution_count": 19,
   "metadata": {},
   "outputs": [
    {
     "name": "stdout",
     "output_type": "stream",
     "text": [
      "2\n",
      "True\n",
      "11\n",
      "treinamento@teste.com\n",
      "False\n",
      "True\n",
      "False\n",
      " novoemailcomespacos@treinamento.com   \n",
      "novoemailcomespacos@treinamento.com\n"
     ]
    }
   ],
   "source": [
    "email = 'treinamento@@teste.com'\n",
    "espacos = ' novoemailcomespacos@treinamento.com   '\n",
    "print(email.count('@'))\n",
    "print(email.endswith('com'))\n",
    "print(email.find('@'))\n",
    "print(email.replace('@@', '@'))\n",
    "print(email.startswith('@'))\n",
    "print(email.startswith('treinamento'))\n",
    "print(email.startswith('@'))\n",
    "print(espacos)\n",
    "print(espacos.strip())"
   ]
  },
  {
   "cell_type": "code",
   "execution_count": 27,
   "metadata": {},
   "outputs": [
    {
     "name": "stdout",
     "output_type": "stream",
     "text": [
      "True\n",
      "True\n",
      "False\n",
      "True\n",
      "False\n",
      "True\n"
     ]
    }
   ],
   "source": [
    "alfa = 'password'\n",
    "numerico = '12022022'\n",
    "\n",
    "print(alfa.isalnum())\n",
    "print(alfa.isalpha())\n",
    "print(alfa.isnumeric())\n",
    "print(numerico.isalnum())\n",
    "print(numerico.isalpha())\n",
    "print(numerico.isnumeric())"
   ]
  },
  {
   "cell_type": "code",
   "execution_count": 30,
   "metadata": {},
   "outputs": [
    {
     "name": "stdout",
     "output_type": "stream",
     "text": [
      "['Nome', 'Completo', 'do', 'Usuário']\n",
      "['Aqui vou inserir um texto com mais de uma linha.', 'Chegando na segunda linha agora.']\n"
     ]
    }
   ],
   "source": [
    "separador = 'Nome Completo do Usuário'\n",
    "quebra_de_linha = '''Aqui vou inserir um texto com mais de uma linha.\n",
    "Chegando na segunda linha agora.'''\n",
    "\n",
    "print(separador.split(' '))\n",
    "print(quebra_de_linha.splitlines())"
   ]
  }
 ],
 "metadata": {
  "interpreter": {
   "hash": "da7ce5f3ff9f47d24bb939b13b53992dcf854878b28fcfc53992ecbe890c179b"
  },
  "kernelspec": {
   "display_name": "Python 3.10.2 64-bit",
   "language": "python",
   "name": "python3"
  },
  "language_info": {
   "codemirror_mode": {
    "name": "ipython",
    "version": 3
   },
   "file_extension": ".py",
   "mimetype": "text/x-python",
   "name": "python",
   "nbconvert_exporter": "python",
   "pygments_lexer": "ipython3",
   "version": "3.10.2"
  },
  "orig_nbformat": 4
 },
 "nbformat": 4,
 "nbformat_minor": 2
}
