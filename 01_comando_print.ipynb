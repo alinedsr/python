{
 "cells": [
  {
   "cell_type": "markdown",
   "id": "df4cc51e",
   "metadata": {},
   "source": [
    "Meu primeiro programa, let's!"
   ]
  },
  {
   "cell_type": "code",
   "execution_count": 10,
   "id": "7f42db8f",
   "metadata": {},
   "outputs": [
    {
     "name": "stdout",
     "output_type": "stream",
     "text": [
      "Trabalhando com o comando \"print\"\n"
     ]
    }
   ],
   "source": [
    "print('Trabalhando com o comando \"print\"')"
   ]
  },
  {
   "cell_type": "code",
   "execution_count": 12,
   "id": "1a3788d5",
   "metadata": {},
   "outputs": [
    {
     "name": "stdout",
     "output_type": "stream",
     "text": [
      "Textos são impressos utilizando aspas - podem ser simples ou duplas, mas por padrão usa-se aspas simples;\n"
     ]
    }
   ],
   "source": [
    "print('Textos são impressos utilizando aspas - podem ser simples ou duplas, mas por padrão usa-se aspas simples;')"
   ]
  },
  {
   "cell_type": "code",
   "execution_count": 17,
   "id": "7e1aa3fa",
   "metadata": {},
   "outputs": [
    {
     "name": "stdout",
     "output_type": "stream",
     "text": [
      "Para imprimir números, não precisamos de aspas:\n",
      "123\n",
      "1 2 3\n"
     ]
    }
   ],
   "source": [
    "print('Para imprimir números, não precisamos de aspas:')\n",
    "print(123)\n",
    "print('1', '2', '3')"
   ]
  }
 ],
 "metadata": {
  "kernelspec": {
   "display_name": "Python 3",
   "language": "python",
   "name": "python3"
  },
  "language_info": {
   "codemirror_mode": {
    "name": "ipython",
    "version": 3
   },
   "file_extension": ".py",
   "mimetype": "text/x-python",
   "name": "python",
   "nbconvert_exporter": "python",
   "pygments_lexer": "ipython3",
   "version": "3.8.8"
  }
 },
 "nbformat": 4,
 "nbformat_minor": 5
}
