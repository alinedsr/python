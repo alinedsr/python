{
 "cells": [
  {
   "cell_type": "markdown",
   "metadata": {},
   "source": [
    "# Trabalhando com Listas"
   ]
  },
  {
   "cell_type": "code",
   "execution_count": null,
   "metadata": {},
   "outputs": [],
   "source": [
    "lista = ['valor1', 'valor2', 'valor3', 'valor4', 'valor5', 'valor6', 'valor7', 'valor8', 'valor9', 'valor10']\n",
    "print(lista[0])\n",
    "print(lista[1])\n",
    "print(lista[2])\n",
    "print(lista[3])\n",
    "print(lista[4])\n",
    "print(lista[5])\n",
    "print(lista[6])\n",
    "print(lista[7])\n",
    "print(lista[8])\n",
    "print(lista[9])\n",
    "print(lista)"
   ]
  },
  {
   "cell_type": "code",
   "execution_count": null,
   "metadata": {},
   "outputs": [],
   "source": [
    "produtos = ['celular', 'notebook', 'televisão', 'teclado', 'mouse', 'headset']\n",
    "quantidades = [500, 50, 100, 250, 250, 200]\n",
    "\n",
    "print('A quantidade de {}es em estoque é de {}'.format(produtos[0],quantidades[0]))"
   ]
  },
  {
   "cell_type": "code",
   "execution_count": null,
   "metadata": {},
   "outputs": [],
   "source": [
    "produtos = ['celular', 'notebook', 'televisão', 'teclado', 'mouse', 'headset']\n",
    "quantidades = [500, 50, 100, 250, 250, 200]\n",
    "quantidades[3] = 300\n",
    "print('A quantidade do produto {} em estoque é de {}'.format(produtos[3],quantidades[3]))"
   ]
  },
  {
   "cell_type": "code",
   "execution_count": null,
   "metadata": {},
   "outputs": [],
   "source": [
    "produtos = ['celular', 'notebook', 'televisão', 'teclado', 'mouse', 'headset']\n",
    "quantidades = [500, 50, 100, 250, 250, 200]\n",
    "i = produtos.index('headset')\n",
    "print(i)\n",
    "print(produtos[i], quantidades[i])\n",
    "print('A quantidade em estoque do produto {} é de {}'.format(produtos[i], quantidades[i]))"
   ]
  },
  {
   "cell_type": "code",
   "execution_count": null,
   "metadata": {},
   "outputs": [],
   "source": [
    "produtos = ['celular', 'notebook', 'televisão', 'teclado', 'mouse', 'headset']\n",
    "quantidades = [500, 50, 100, 250, 250, 200]\n",
    "produto = input('Qual produto você deseja saber a quantidade em estoque?')\n",
    "produto = produto.casefold()\n",
    "if produto in produtos:\n",
    "    i = produtos.index(produto)\n",
    "    print('A quantidade de {} em estoque é de {}.'.format(produto, quantidades[i]))\n",
    "else:\n",
    "    print('Não temos nenhuma unidade de {} em estoque.'.format(produto))"
   ]
  },
  {
   "cell_type": "markdown",
   "metadata": {},
   "source": [
    "### Adicionar ou remover itens da lista"
   ]
  },
  {
   "cell_type": "code",
   "execution_count": 94,
   "metadata": {},
   "outputs": [
    {
     "name": "stdout",
     "output_type": "stream",
     "text": [
      "['celular', 'notebook', 'televisão', 'teclado', 'mouse', 'headset', 'geladeira']\n",
      "primeiro passo\n",
      "geladeira\n",
      "quarto passo\n"
     ]
    }
   ],
   "source": [
    "if produto:\n",
    "    if produto not in produtos:\n",
    "        produtos.append(produto)\n",
    "        print(produtos)\n",
    "        (print('primeiro passo'))\n",
    "    else:\n",
    "        produtos.remove(produto)\n",
    "        print(produtos)\n",
    "        (print('segundo passo'))\n",
    "else:\n",
    "    print('Por favor, insira um nome válido.')\n",
    "\n",
    "if produto:\n",
    "    if produto not in produtos:\n",
    "        produtos.append(produto)\n",
    "        print(produtos)\n",
    "        (print('terceiro passo'))\n",
    "    else:\n",
    "        i = produtos.index(produto)\n",
    "        removidos = produtos.pop(i)\n",
    "        print(removidos)\n",
    "        (print('quarto passo'))"
   ]
  },
  {
   "cell_type": "code",
   "execution_count": 104,
   "metadata": {},
   "outputs": [
    {
     "name": "stdout",
     "output_type": "stream",
     "text": [
      "6 500 50\n",
      "Atualmente, contamos com 6 produtos em estoque, sendo celular o produto com maior estoque, com 500 unidades, e notebook o produto com menor estoque, com 50 unidades.\n"
     ]
    }
   ],
   "source": [
    "qtd_produtos = len(produtos)\n",
    "maior_estoque = max(quantidades)\n",
    "menor_estoque = min(quantidades)\n",
    "produto_mais_estoque = quantidades.index(maior_estoque)\n",
    "produto_menor_estoque = quantidades.index(menor_estoque)\n",
    "print(qtd_produtos, maior_estoque, menor_estoque)\n",
    "\n",
    "print('Atualmente, contamos com {} produtos em estoque, sendo {} o produto com maior estoque, com {} unidades, e {} o produto com menor estoque, com {} unidades.'.format(qtd_produtos, produtos[produto_mais_estoque], maior_estoque, produtos[produto_menor_estoque], menor_estoque))"
   ]
  }
 ],
 "metadata": {
  "interpreter": {
   "hash": "da7ce5f3ff9f47d24bb939b13b53992dcf854878b28fcfc53992ecbe890c179b"
  },
  "kernelspec": {
   "display_name": "Python 3.10.2 64-bit",
   "language": "python",
   "name": "python3"
  },
  "language_info": {
   "codemirror_mode": {
    "name": "ipython",
    "version": 3
   },
   "file_extension": ".py",
   "mimetype": "text/x-python",
   "name": "python",
   "nbconvert_exporter": "python",
   "pygments_lexer": "ipython3",
   "version": "3.10.2"
  },
  "orig_nbformat": 4
 },
 "nbformat": 4,
 "nbformat_minor": 2
}
