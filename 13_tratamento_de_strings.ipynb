{
 "cells": [
  {
   "cell_type": "markdown",
   "metadata": {},
   "source": [
    "# Trabalhando com Strings - Textos"
   ]
  },
  {
   "cell_type": "markdown",
   "metadata": {},
   "source": [
    "### Índices"
   ]
  },
  {
   "cell_type": "code",
   "execution_count": 11,
   "metadata": {},
   "outputs": [
    {
     "name": "stdout",
     "output_type": "stream",
     "text": [
      "@\n",
      "servidor.com.br\n",
      "usuario\n"
     ]
    }
   ],
   "source": [
    "email = 'usuario@servidor.com.br'\n",
    "\n",
    "print(email[7])\n",
    "print(email[8:])\n",
    "print(email[0:7])"
   ]
  },
  {
   "cell_type": "markdown",
   "metadata": {},
   "source": [
    "### Comprimento da String"
   ]
  },
  {
   "cell_type": "code",
   "execution_count": 13,
   "metadata": {},
   "outputs": [
    {
     "name": "stdout",
     "output_type": "stream",
     "text": [
      "23\n"
     ]
    }
   ],
   "source": [
    "print(len(email))"
   ]
  },
  {
   "cell_type": "code",
   "execution_count": 19,
   "metadata": {},
   "outputs": [
    {
     "name": "stdout",
     "output_type": "stream",
     "text": [
      "Insira um e-mail válido.\n"
     ]
    }
   ],
   "source": [
    "email = input('Digite o seu email: ')\n",
    "\n",
    "if '@' not in email:\n",
    "    print('Insira um e-mail válido.')\n",
    "else:\n",
    "    print('O e-mail {} foi adicionado com sucesso.'.format(email))"
   ]
  },
  {
   "cell_type": "code",
   "execution_count": 40,
   "metadata": {},
   "outputs": [
    {
     "name": "stdout",
     "output_type": "stream",
     "text": [
      "Você precisa digitar uma senha válida.\n"
     ]
    }
   ],
   "source": [
    "senha = input('Digite a senha: ')\n",
    "\n",
    "if senha:\n",
    "    if ' ' in senha:\n",
    "        print('Senha inválida. A senha não pode conter espaços em branco.')\n",
    "        print(senha)\n",
    "    elif len(senha) < 8:\n",
    "        print('Senha inválida. A senha precisa ter ao menos 8 caracteres.') \n",
    "    else:\n",
    "        print('Senha cadastrada com sucesso.')\n",
    "else:\n",
    "    print('Você precisa digitar uma senha válida.')\n"
   ]
  },
  {
   "cell_type": "markdown",
   "metadata": {},
   "source": [
    "### Índice Negativo"
   ]
  },
  {
   "cell_type": "code",
   "execution_count": 48,
   "metadata": {},
   "outputs": [
    {
     "name": "stdout",
     "output_type": "stream",
     "text": [
      "m\n"
     ]
    }
   ],
   "source": [
    "email = 'treinamento@testes.com'\n",
    "\n",
    "print(email[-1:])"
   ]
  },
  {
   "cell_type": "markdown",
   "metadata": {},
   "source": [
    "### Transformação de tipos de variáveis em String & Concatenando com +"
   ]
  },
  {
   "cell_type": "code",
   "execution_count": 50,
   "metadata": {},
   "outputs": [
    {
     "name": "stdout",
     "output_type": "stream",
     "text": [
      "O lucro foi de 800\n"
     ]
    }
   ],
   "source": [
    "faturamento = 1000\n",
    "custo = 200\n",
    "lucro = faturamento - custo\n",
    "\n",
    "print('O lucro foi de ' + str(lucro))"
   ]
  },
  {
   "cell_type": "markdown",
   "metadata": {},
   "source": [
    "### Utilizando IN para verificar se o texto está contido na variável."
   ]
  },
  {
   "cell_type": "code",
   "execution_count": 52,
   "metadata": {},
   "outputs": [
    {
     "name": "stdout",
     "output_type": "stream",
     "text": [
      "True\n"
     ]
    }
   ],
   "source": [
    "email = 'treinamento@teste.com'\n",
    "\n",
    "print('@' in email)"
   ]
  },
  {
   "cell_type": "markdown",
   "metadata": {},
   "source": [
    "### Utilizando o método format & index para repetição de variável."
   ]
  },
  {
   "cell_type": "code",
   "execution_count": 55,
   "metadata": {},
   "outputs": [
    {
     "name": "stdout",
     "output_type": "stream",
     "text": [
      "O faturamento foi de 800. O custo foi de 200. Assim, o lucro foi de 600. Lembrando que o faturamento foi de 800.\n"
     ]
    }
   ],
   "source": [
    "faturamento = 800\n",
    "custo = 200\n",
    "lucro = faturamento - custo\n",
    "mensagem = 'O faturamento foi de {0}. O custo foi de {1}. Assim, o lucro foi de {2}. Lembrando que o faturamento foi de {0}.'\n",
    "\n",
    "print(mensagem.format(faturamento, custo, lucro))"
   ]
  },
  {
   "cell_type": "markdown",
   "metadata": {},
   "source": [
    "### Utilizando %d e %s para substituir string e int"
   ]
  },
  {
   "cell_type": "code",
   "execution_count": 57,
   "metadata": {},
   "outputs": [
    {
     "name": "stdout",
     "output_type": "stream",
     "text": [
      "O faturamento foi de 800. O custo foi de 200 e o lucro foi de 600.\n"
     ]
    }
   ],
   "source": [
    "faturamento = 800\n",
    "custo = 200\n",
    "lucro = faturamento - custo\n",
    "\n",
    "print('O faturamento foi de %d. O custo foi de %d e o lucro foi de %d.' %(faturamento, custo, lucro))"
   ]
  }
 ],
 "metadata": {
  "interpreter": {
   "hash": "da7ce5f3ff9f47d24bb939b13b53992dcf854878b28fcfc53992ecbe890c179b"
  },
  "kernelspec": {
   "display_name": "Python 3.10.2 64-bit",
   "language": "python",
   "name": "python3"
  },
  "language_info": {
   "codemirror_mode": {
    "name": "ipython",
    "version": 3
   },
   "file_extension": ".py",
   "mimetype": "text/x-python",
   "name": "python",
   "nbconvert_exporter": "python",
   "pygments_lexer": "ipython3",
   "version": "3.10.2"
  },
  "orig_nbformat": 4
 },
 "nbformat": 4,
 "nbformat_minor": 2
}
