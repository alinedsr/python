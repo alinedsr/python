{
 "cells": [
  {
   "cell_type": "markdown",
   "id": "181b9d65",
   "metadata": {},
   "source": [
    "# Tipos de Variáveis"
   ]
  },
  {
   "cell_type": "code",
   "execution_count": 2,
   "id": "37b3010e",
   "metadata": {},
   "outputs": [
    {
     "name": "stdout",
     "output_type": "stream",
     "text": [
      "Em Python, tudo é variável, pois tudo é objeto. As variáveis não precisam ser declaradas explicitamente.\n"
     ]
    }
   ],
   "source": [
    "print('Em Python, tudo é variável, pois tudo é objeto. As variáveis não precisam ser declaradas explicitamente.')"
   ]
  },
  {
   "cell_type": "code",
   "execution_count": 4,
   "id": "e3bb220c",
   "metadata": {},
   "outputs": [
    {
     "name": "stdout",
     "output_type": "stream",
     "text": [
      "Os principais tipos de variáveis são:\n",
      "int -> inteiro\n",
      "string -> texto\n",
      "float -> casas decimais\n",
      "bool -> true or false\n"
     ]
    }
   ],
   "source": [
    "print('Os principais tipos de variáveis são:')\n",
    "print('int -> inteiro')\n",
    "print('string -> texto')\n",
    "print('float -> casas decimais')\n",
    "print('bool -> true or false')"
   ]
  },
  {
   "cell_type": "code",
   "execution_count": 6,
   "id": "0f88a362",
   "metadata": {},
   "outputs": [
    {
     "data": {
      "text/plain": [
       "int"
      ]
     },
     "execution_count": 6,
     "metadata": {},
     "output_type": "execute_result"
    }
   ],
   "source": [
    "faturamento = 1000\n",
    "type(faturamento)"
   ]
  },
  {
   "cell_type": "code",
   "execution_count": 8,
   "id": "6a8d7239",
   "metadata": {},
   "outputs": [
    {
     "data": {
      "text/plain": [
       "float"
      ]
     },
     "execution_count": 8,
     "metadata": {},
     "output_type": "execute_result"
    }
   ],
   "source": [
    "faturamento = 10.5\n",
    "type(faturamento)"
   ]
  },
  {
   "cell_type": "code",
   "execution_count": 10,
   "id": "58821b16",
   "metadata": {},
   "outputs": [
    {
     "data": {
      "text/plain": [
       "str"
      ]
     },
     "execution_count": 10,
     "metadata": {},
     "output_type": "execute_result"
    }
   ],
   "source": [
    "faturamento = '1000'\n",
    "type(faturamento)"
   ]
  },
  {
   "cell_type": "code",
   "execution_count": 12,
   "id": "3944d860",
   "metadata": {},
   "outputs": [
    {
     "data": {
      "text/plain": [
       "bool"
      ]
     },
     "execution_count": 12,
     "metadata": {},
     "output_type": "execute_result"
    }
   ],
   "source": [
    "ganha_bonus = True\n",
    "type(ganha_bonus)"
   ]
  }
 ],
 "metadata": {
  "kernelspec": {
   "display_name": "Python 3",
   "language": "python",
   "name": "python3"
  },
  "language_info": {
   "codemirror_mode": {
    "name": "ipython",
    "version": 3
   },
   "file_extension": ".py",
   "mimetype": "text/x-python",
   "name": "python",
   "nbconvert_exporter": "python",
   "pygments_lexer": "ipython3",
   "version": "3.8.8"
  }
 },
 "nbformat": 4,
 "nbformat_minor": 5
}
